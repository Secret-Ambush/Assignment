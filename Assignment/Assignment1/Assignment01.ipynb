{
  "nbformat": 4,
  "nbformat_minor": 0,
  "metadata": {
    "colab": {
      "provenance": [],
      "authorship_tag": "ABX9TyNN/FbKsaownexvCUmWUYFm",
      "include_colab_link": true
    },
    "kernelspec": {
      "name": "python3",
      "display_name": "Python 3"
    },
    "language_info": {
      "name": "python"
    }
  },
  "cells": [
    {
      "cell_type": "markdown",
      "metadata": {
        "id": "view-in-github",
        "colab_type": "text"
      },
      "source": [
        "<a href=\"https://colab.research.google.com/github/Secret-Ambush/Assignment/blob/main/Assignment/Assignment1/Assignment01.ipynb\" target=\"_parent\"><img src=\"https://colab.research.google.com/assets/colab-badge.svg\" alt=\"Open In Colab\"/></a>"
      ]
    },
    {
      "cell_type": "code",
      "source": [
        "#Testing data\n",
        "myset = {\"hello\", \" there\", \"is\", \"this\", \"mutable\",False,0}\n",
        "print(myset)"
      ],
      "metadata": {
        "id": "sf3PYR4DDVJL",
        "colab": {
          "base_uri": "https://localhost:8080/"
        },
        "outputId": "99b0c081-72f3-4b7c-e52d-c550468595d7"
      },
      "execution_count": 1,
      "outputs": [
        {
          "output_type": "stream",
          "name": "stdout",
          "text": [
            "{False, 'is', 'mutable', 'hello', ' there', 'this'}\n"
          ]
        }
      ]
    },
    {
      "cell_type": "code",
      "source": [
        "#adding element into set\n",
        "print(\"Before adding\", myset)\n",
        "myset.add(20)\n",
        "print(\"After adding\", myset)"
      ],
      "metadata": {
        "id": "hk_KpedrDYPG",
        "colab": {
          "base_uri": "https://localhost:8080/"
        },
        "outputId": "315efb75-3216-439c-82da-93098a276f77"
      },
      "execution_count": 2,
      "outputs": [
        {
          "output_type": "stream",
          "name": "stdout",
          "text": [
            "Before adding {False, 'is', 'mutable', 'hello', ' there', 'this'}\n",
            "After adding {False, 'is', 'mutable', 'hello', ' there', 20, 'this'}\n"
          ]
        }
      ]
    },
    {
      "cell_type": "code",
      "source": [
        "#deleting element into set\n",
        "print(\"Before deleting\", myset)\n",
        "myset.remove(20)\n",
        "print(\"After deleting\", myset)"
      ],
      "metadata": {
        "colab": {
          "base_uri": "https://localhost:8080/"
        },
        "id": "tHjdJkdhry9b",
        "outputId": "4c8c02c7-e962-4802-a1d9-fa7eaeeaadaa"
      },
      "execution_count": 4,
      "outputs": [
        {
          "output_type": "stream",
          "name": "stdout",
          "text": [
            "Before deleting {False, 'is', 'mutable', 'hello', ' there', 20, 'this'}\n",
            "After deleting {False, 'is', 'mutable', 'hello', ' there', 'this'}\n"
          ]
        }
      ]
    },
    {
      "cell_type": "markdown",
      "source": [
        "Hence, sets are mutable"
      ],
      "metadata": {
        "id": "EEobLHzqr5A1"
      }
    }
  ]
}