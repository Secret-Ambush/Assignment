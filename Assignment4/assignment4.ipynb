{
  "nbformat": 4,
  "nbformat_minor": 0,
  "metadata": {
    "colab": {
      "provenance": [],
      "authorship_tag": "ABX9TyMCY19FURrpIUYMLDuntxO9"
    },
    "kernelspec": {
      "name": "python3",
      "display_name": "Python 3"
    },
    "language_info": {
      "name": "python"
    }
  },
  "cells": [
    {
      "cell_type": "markdown",
      "source": [
        "**STRINGS**"
      ],
      "metadata": {
        "id": "DU8MjDmbxsDg"
      }
    },
    {
      "cell_type": "code",
      "source": [
        "print(\"Welcome %s! Good %s\" %(\"Everyone\",\"Evening\"))"
      ],
      "metadata": {
        "colab": {
          "base_uri": "https://localhost:8080/"
        },
        "id": "yJlqpCstoYsZ",
        "outputId": "03bf8649-dcca-4f73-8476-6998791b13f1"
      },
      "execution_count": null,
      "outputs": [
        {
          "output_type": "stream",
          "name": "stdout",
          "text": [
            "Welcome Everyone! Good Evening\n"
          ]
        }
      ]
    },
    {
      "cell_type": "code",
      "source": [
        "print(\"Hello {}\".format(\"welcome all\"))"
      ],
      "metadata": {
        "colab": {
          "base_uri": "https://localhost:8080/"
        },
        "id": "liAAVjaUoZwg",
        "outputId": "8fb8f51f-18da-49d2-838c-c90e3dd1db4e"
      },
      "execution_count": null,
      "outputs": [
        {
          "output_type": "stream",
          "name": "stdout",
          "text": [
            "Hello welcome all\n"
          ]
        }
      ]
    },
    {
      "cell_type": "code",
      "source": [
        "print(\"Hello {0}, Hello {2}, Hello {1}\".format(\" all\",\"rIDDHI\",\"CLASS\"))"
      ],
      "metadata": {
        "colab": {
          "base_uri": "https://localhost:8080/"
        },
        "id": "zXSEGCkSxo-L",
        "outputId": "badddf7c-ebe8-4787-ab58-9688d68fd438"
      },
      "execution_count": null,
      "outputs": [
        {
          "output_type": "stream",
          "name": "stdout",
          "text": [
            "Hello  all, Hello CLASS, Hello rIDDHI\n"
          ]
        }
      ]
    },
    {
      "cell_type": "code",
      "source": [
        "#LAMBDA FUNCTIONS\n",
        "x = lambda x:x+100\n",
        "print(x(5))"
      ],
      "metadata": {
        "colab": {
          "base_uri": "https://localhost:8080/"
        },
        "id": "LamhiVEIfS7y",
        "outputId": "23498fd1-25a4-4ed7-9678-f956255a4355"
      },
      "execution_count": null,
      "outputs": [
        {
          "output_type": "stream",
          "name": "stdout",
          "text": [
            "105\n"
          ]
        }
      ]
    },
    {
      "cell_type": "code",
      "source": [
        "z = lambda x,y,z:x+y*z\n",
        "print(z(5,10,1))"
      ],
      "metadata": {
        "colab": {
          "base_uri": "https://localhost:8080/"
        },
        "id": "PTAtup75gNE5",
        "outputId": "bdd7fd4d-8db1-4050-fcbf-06650accbd76"
      },
      "execution_count": null,
      "outputs": [
        {
          "output_type": "stream",
          "name": "stdout",
          "text": [
            "15\n"
          ]
        }
      ]
    },
    {
      "cell_type": "code",
      "source": [
        "def add():\n",
        "  print((lambda a,b,c: a+b-c)(1,2,3))\n",
        "add()"
      ],
      "metadata": {
        "colab": {
          "base_uri": "https://localhost:8080/"
        },
        "id": "ILNZxRtzg8NJ",
        "outputId": "c802c166-3bd6-42e2-d12e-3a4c977cad5e"
      },
      "execution_count": null,
      "outputs": [
        {
          "output_type": "stream",
          "name": "stdout",
          "text": [
            "0\n"
          ]
        }
      ]
    },
    {
      "cell_type": "code",
      "source": [
        "data = [lambda x = x:x*10 for x in range (1,10)]\n",
        "for data1 in data:\n",
        "  print(data1())"
      ],
      "metadata": {
        "colab": {
          "base_uri": "https://localhost:8080/"
        },
        "id": "PZY8oOq0hOfT",
        "outputId": "fa43a535-f7e7-4963-bbad-dbf1244f2d40"
      },
      "execution_count": null,
      "outputs": [
        {
          "output_type": "stream",
          "name": "stdout",
          "text": [
            "10\n",
            "20\n",
            "30\n",
            "40\n",
            "50\n",
            "60\n",
            "70\n",
            "80\n",
            "90\n"
          ]
        }
      ]
    },
    {
      "cell_type": "code",
      "source": [
        "data = [lambda x = x:x*10 for x in range (1,10)]\n",
        "for data1 in data:\n",
        "  print(data1())\n",
        "  if (data1() > 3):\n",
        "    print(\"more than 3\")"
      ],
      "metadata": {
        "colab": {
          "base_uri": "https://localhost:8080/"
        },
        "id": "rqBEQKdFi4pH",
        "outputId": "648f94ac-7d70-4ff1-8234-b80849af183f"
      },
      "execution_count": null,
      "outputs": [
        {
          "output_type": "stream",
          "name": "stdout",
          "text": [
            "10\n",
            "more than 3\n",
            "20\n",
            "more than 3\n",
            "30\n",
            "more than 3\n",
            "40\n",
            "more than 3\n",
            "50\n",
            "more than 3\n",
            "60\n",
            "more than 3\n",
            "70\n",
            "more than 3\n",
            "80\n",
            "more than 3\n",
            "90\n",
            "more than 3\n"
          ]
        }
      ]
    },
    {
      "cell_type": "code",
      "source": [
        "y = lambda a,b: a if (a>b) else b\n",
        "print(y(3,4))"
      ],
      "metadata": {
        "colab": {
          "base_uri": "https://localhost:8080/"
        },
        "id": "LI7OvWCLj-jh",
        "outputId": "22942deb-be7a-4566-d269-c109532be007"
      },
      "execution_count": null,
      "outputs": [
        {
          "output_type": "stream",
          "name": "stdout",
          "text": [
            "4\n"
          ]
        }
      ]
    },
    {
      "cell_type": "code",
      "source": [
        "#decoraters\n",
        "def greet():\n",
        "  print(\"Bonjour\")\n",
        "\n",
        "greet()"
      ],
      "metadata": {
        "colab": {
          "base_uri": "https://localhost:8080/"
        },
        "id": "B1V4ZWgllfXk",
        "outputId": "86d559bb-bc15-4787-a869-04ac5fc55e7d"
      },
      "execution_count": null,
      "outputs": [
        {
          "output_type": "stream",
          "name": "stdout",
          "text": [
            "Bonjour\n"
          ]
        }
      ]
    },
    {
      "cell_type": "code",
      "source": [
        "def increment(num1):\n",
        "  return num1+1\n",
        "\n",
        "def indec(func,num1):\n",
        "  result = func(num1)\n",
        "  return result\n",
        "indec(increment,3)"
      ],
      "metadata": {
        "colab": {
          "base_uri": "https://localhost:8080/"
        },
        "id": "8en8bHBZoUbV",
        "outputId": "e5e208c1-5b46-4fe9-8b49-cecfede777b8"
      },
      "execution_count": null,
      "outputs": [
        {
          "output_type": "execute_result",
          "data": {
            "text/plain": [
              "4"
            ]
          },
          "metadata": {},
          "execution_count": 21
        }
      ]
    }
  ]
}