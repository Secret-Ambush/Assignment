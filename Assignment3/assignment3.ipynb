{
  "nbformat": 4,
  "nbformat_minor": 0,
  "metadata": {
    "colab": {
      "provenance": [],
      "authorship_tag": "ABX9TyMizau6DN0qPWue9Gng5uVB"
    },
    "kernelspec": {
      "name": "python3",
      "display_name": "Python 3"
    },
    "language_info": {
      "name": "python"
    }
  },
  "cells": [
    {
      "cell_type": "code",
      "source": [
        "#Calculator\n",
        "\n",
        "def add(n1,n2):\n",
        "  return n1 + n2\n",
        "\n",
        "def subtract(n1,n2):\n",
        "  return n1 - n2\n",
        "\n",
        "def multiply(n1,n2):\n",
        "  return n1 * n2\n",
        "\n",
        "def remainder(n1,n2):\n",
        "  return n1 % n2\n",
        "\n",
        "n1 = int(input(\"Enter number 1: \"))\n",
        "n2 = int(input(\"Enter number 2: \"))\n",
        "op = int(input(\"Enter 1 - add, 2 - sub, 3 - mul, 4 - remainder: \"))\n",
        "\n",
        "if op == 1: print(\"Ans:\",n1,\"+\",n2,\"=\",add(n1,n2))\n",
        "elif op == 2: print(\"Ans:\",n1,\"-\",n2,\"=\",subtract(n1,n2))\n",
        "elif op == 3: print(\"Ans:\",n1,\"*\",n2,\"=\",multiply(n1,n2))\n",
        "elif op == 4: print(\"Ans:\",n1,\"%\",n2,\"=\",remainder(n1,n2))\n",
        "else: print(\"Invalid option\")\n"
      ],
      "metadata": {
        "colab": {
          "base_uri": "https://localhost:8080/"
        },
        "id": "4Mkb-L1QwOxX",
        "outputId": "2d844497-b634-4458-c472-31657b905a89"
      },
      "execution_count": 19,
      "outputs": [
        {
          "output_type": "stream",
          "name": "stdout",
          "text": [
            "Enter number 1: 20\n",
            "Enter number 2: 10\n",
            "Enter 1 - add, 2 - sub, 3 - mul, 4 - remainder: 4\n",
            "Ans: 20 % 10 = 0\n"
          ]
        }
      ]
    }
  ]
}