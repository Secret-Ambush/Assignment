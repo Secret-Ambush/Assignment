{
  "nbformat": 4,
  "nbformat_minor": 0,
  "metadata": {
    "colab": {
      "provenance": [],
      "authorship_tag": "ABX9TyMyorkH+UhYUoWHJSfP/OUh",
      "include_colab_link": true
    },
    "kernelspec": {
      "name": "python3",
      "display_name": "Python 3"
    },
    "language_info": {
      "name": "python"
    }
  },
  "cells": [
    {
      "cell_type": "markdown",
      "metadata": {
        "id": "view-in-github",
        "colab_type": "text"
      },
      "source": [
        "<a href=\"https://colab.research.google.com/github/Secret-Ambush/Assignment/blob/main/Assignment2/assignment_2.ipynb\" target=\"_parent\"><img src=\"https://colab.research.google.com/assets/colab-badge.svg\" alt=\"Open In Colab\"/></a>"
      ]
    },
    {
      "cell_type": "code",
      "source": [
        "#INDEXING\n",
        "list1 = [\"Hello\",\"World\",\"This\",\"is\",\"a\",\"non-homogeneous\",\"list\",True,50,100]\n",
        "print(list1)\n",
        "print()\n",
        "\n",
        "#Positive indexing\n",
        "print(\"****Positive indexing****\")\n",
        "print(list1[0])\n",
        "print(list1[1])\n",
        "print(list1[2])\n",
        "print(list1[3])\n",
        "print(list1[4])\n",
        "print(list1[5])\n",
        "print(list1[6])\n",
        "print(list1[7])\n",
        "print(list1[8])\n",
        "print(list1[9])\n",
        "\n",
        "print()\n",
        "\n",
        "#Negative indexing\n",
        "print(\"****Negative indexing****\")\n",
        "print(list1[-10])\n",
        "print(list1[-9])\n",
        "print(list1[-8])\n",
        "print(list1[-7])\n",
        "print(list1[-6])\n",
        "print(list1[-5])\n",
        "print(list1[-4])\n",
        "print(list1[-3])\n",
        "print(list1[-2])\n",
        "print(list1[-1])"
      ],
      "metadata": {
        "colab": {
          "base_uri": "https://localhost:8080/"
        },
        "id": "aAI5YI7dtPum",
        "outputId": "f77a01b6-563b-4706-b441-a34827ba8883"
      },
      "execution_count": 8,
      "outputs": [
        {
          "output_type": "stream",
          "name": "stdout",
          "text": [
            "['Hello', 'World', 'This', 'is', 'a', 'non-homogeneous', 'list', True, 50, 100]\n",
            "\n",
            "****Positive indexing****\n",
            "Hello\n",
            "World\n",
            "This\n",
            "is\n",
            "a\n",
            "non-homogeneous\n",
            "list\n",
            "True\n",
            "50\n",
            "100\n",
            "\n",
            "****Negative indexing****\n",
            "Hello\n",
            "World\n",
            "This\n",
            "is\n",
            "a\n",
            "non-homogeneous\n",
            "list\n",
            "True\n",
            "50\n",
            "100\n"
          ]
        }
      ]
    },
    {
      "cell_type": "code",
      "source": [
        "list1.append(\"last\")\n",
        "print(list1)\n",
        "list2 = [\"New\",\"elements\"]\n",
        "list1 += list2\n",
        "print(list1)"
      ],
      "metadata": {
        "id": "xhVL65Xktp64"
      },
      "execution_count": null,
      "outputs": []
    },
    {
      "cell_type": "code",
      "source": [
        "                "
      ],
      "metadata": {
        "id": "e0MsnQKZtr_R"
      },
      "execution_count": null,
      "outputs": []
    }
  ]
}